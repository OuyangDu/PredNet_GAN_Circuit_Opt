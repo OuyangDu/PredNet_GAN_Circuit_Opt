{
 "cells": [
  {
   "cell_type": "code",
   "execution_count": null,
   "metadata": {},
   "outputs": [],
   "source": [
    "# Before running codes below, please run add_python_path.bat or something similar to add repo to path\n",
    "import os\n",
    "\n",
    "# generate PredNet responses to sparse stimuli. Output data file 'heatmap_row/heatmap_rowi.hkl'\n",
    "os.system(f'python ./bin/prednet_rf.py')\n",
    "# # alternatively, if mpi4py is installed, you can run the code in parallel\n",
    "# os.systm(f'mpiexec -n 4 python ./bin/prednet_rf.py')\n"
   ]
  },
  {
   "cell_type": "code",
   "execution_count": null,
   "metadata": {},
   "outputs": [],
   "source": [
    "\n",
    "# processing cRF: 1. obtain candidate units id; 2. obtain their response heatmap and cRF. Outputs data file 'center_neuron_dict.hkl'\n",
    "# parallel version is also available.\n",
    "# REQUIREMENTS: prednet_rf.py\n",
    "os.system(f'python ./bin/prednet_rf_processing.py')"
   ]
  }
 ],
 "metadata": {
  "language_info": {
   "name": "python"
  }
 },
 "nbformat": 4,
 "nbformat_minor": 2
}
