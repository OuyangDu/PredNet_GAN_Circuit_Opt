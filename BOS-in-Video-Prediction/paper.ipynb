{
 "cells": [
  {
   "cell_type": "code",
   "execution_count": null,
   "id": "171987c5-a925-4379-b467-347a5690f4f1",
   "metadata": {},
   "outputs": [
    {
     "data": {
      "text/plain": [
       "1"
      ]
     },
     "execution_count": 1,
     "metadata": {},
     "output_type": "execute_result"
    }
   ],
   "source": [
    "# Before running codes below, please run add_python_path.bat or something similar to add repo to path\n",
    "import os\n",
    "\n",
    "# generate PredNet responses to sparse stimuli. Output data file 'heatmap_row/heatmap_rowi.hkl'\n",
    "os.system(f'python ./bin/prednet_rf.py')\n",
    "# # alternatively, if mpi4py is installed, you can run the code in parallel\n",
    "# os.systm(f'mpiexec -n 4 python ./bin/prednet_rf.py')\n",
    "\n",
    "# processing cRF: 1. obtain candidate units id; 2. obtain their response heatmap and cRF. Outputs data file 'center_neuron_dict.hkl'\n",
    "# parallel version is also available.\n",
    "# REQUIREMENTS: prednet_rf.py\n",
    "os.system(f'python ./bin/prednet_rf_processing.py')\n",
    "\n",
    "# generate video/image stimuli, including squares with different orientations, positions, sizes. This also generates switch square stimuli that is used in\n",
    "# Figures studying the persistent BO signal. Output files have names are something like 'square_bo_video_ori.npz' etc.\n",
    "os.system(f'python ./bin/generate_square_stim.py')\n",
    "\n",
    "# prednet's responses to the stimuli generated above. Output data files include names like 'square_bo_res_ori.npz'\n",
    "os.system(f'python ./bin/pred_response_to_stim.py')\n",
    "\n",
    "# save the candidate units' responses profile to different stimuli. Output data files like 'square_bo_center_res_ori.npz'\n",
    "os.system(f'python ./bin/save_center_neuron_res.py') \n",
    "\n",
    "# draw unit's heatmap and cRF\n",
    "os.system(f'python ./bin/draw_heatmap.py')\n",
    "\n",
    "# compute BOI, Bav, etc. Output meta-information for each unit. Output name is 'center_neuron_info'\n",
    "os.system(f'python ./bin/export_neuron_info')\n",
    "\n",
    "\n",
    "#### All the above steps can be skipped by downloading the preprocessed data from https://wustl.box.com/s/6j7f4b46gs9uc0u8rhwx5ntn8ivn1l1c\n",
    "\n",
    "# Figure 1. Draw one example unit's response to standard square stimuli\n",
    "os.system(f'python ./bin/draw_one_eg_res')\n",
    "\n",
    "# Figure 1. draw the Bav distribution of candidate units and BO units.\n",
    "os.system(f'python ./bin/boi_bav_dis.py')\n",
    "\n",
    "# Figure 2. compute the units responses to different square positions and sizes\n",
    "os.system(f'python ./bin/shift_size_group_res.py')\n",
    "\n",
    "# Figure 2. compute the units responses to different orientations and compute the span\n",
    "os.system(f'python ./bin/ori_group_res.py')\n",
    "\n",
    "# Figure 2. Draw one example unit's responses to square fragments\n",
    "os.system(f'python ./bin/example_square_part.py')\n",
    "\n",
    "# Figure 2. Population analysis of BO unit's responses to square fragments\n",
    "os.system(f'python ./bin/population_square_part_parallel_gen_data') # generate data\n",
    "os.system(f'python ./bin/population_square_part_fig.py')\n",
    "\n",
    "# Figure 3. Draw units' response difference to square-flip and square-ambiguous\n",
    "os.system(f'python ./bin/persist_res_diff.py')\n",
    "\n",
    "# Figure 3. Draw compare units' activities square-flip to simple figure-off stimuli\n",
    "os.system(f'python ./bin/res_diff_persist_figoff.py')\n",
    "os.system(f'python ./bin/figoff_half_life_time.py')\n",
    "\n",
    "# Figure 4. This can be slow and requires PredNet file. Download data from https://wustl.box.com/s/6j7f4b46gs9uc0u8rhwx5ntn8ivn1l1c\n",
    "# then one only needs to run the last line to draw Figure 4 \n",
    "os.system(f'python ./bin/moving_square.py') # generate moving square video\n",
    "os.system(f'python ./bin/bo_non_bo_avg_fr_data.py') # obtain the units' responses to videos\n",
    "os.system(f'python ./bin/bo_non_bo_avg_fr_plot.py') # subsampling units\n",
    "os.system(f'python ./bin/bo_non_bo_avg_fr_output_bo_info.py') # reformat the subsampled units id\n",
    "os.system(f'python ./bin/ablation_repeats.py') # start ablation experiment\n",
    "os.system(f'python ./bin/pred_diff_slope.py') # slope analysis"
   ]
  },
  {
   "cell_type": "code",
   "execution_count": 1,
   "id": "ea1e8d87-6037-42e3-883e-188419d52c89",
   "metadata": {},
   "outputs": [
    {
     "data": {
      "text/plain": [
       "1"
      ]
     },
     "execution_count": 1,
     "metadata": {},
     "output_type": "execute_result"
    }
   ],
   "source": [
    "# Before running codes below, please run add_python_path.bat or something similar to add repo to path\n",
    "import os\n",
    "\n",
    "# generate PredNet responses to sparse stimuli. Output data file 'heatmap_row/heatmap_rowi.hkl'\n",
    "os.system(f'python ./bin/prednet_rf.py')\n",
    "# # alternatively, if mpi4py is installed, you can run the code in parallel\n",
    "# os.systm(f'mpiexec -n 4 python ./bin/prednet_rf.py')\n",
    "\n"
   ]
  },
  {
   "cell_type": "code",
   "execution_count": null,
   "id": "28913b57-302f-420a-bd8e-832cb3b26a34",
   "metadata": {},
   "outputs": [],
   "source": []
  },
  {
   "cell_type": "code",
   "execution_count": null,
   "id": "c2d0ef88-9dc8-49c3-9629-0586e41e613b",
   "metadata": {},
   "outputs": [],
   "source": []
  },
  {
   "cell_type": "code",
   "execution_count": null,
   "id": "ef02f79d-27eb-4c83-a577-1217554c7e2d",
   "metadata": {},
   "outputs": [],
   "source": []
  }
 ],
 "metadata": {
  "kernelspec": {
   "display_name": "Python 3 (ipykernel)",
   "language": "python",
   "name": "python3"
  },
  "language_info": {
   "codemirror_mode": {
    "name": "ipython",
    "version": 3
   },
   "file_extension": ".py",
   "mimetype": "text/x-python",
   "name": "python",
   "nbconvert_exporter": "python",
   "pygments_lexer": "ipython3",
   "version": "3.12.7"
  }
 },
 "nbformat": 4,
 "nbformat_minor": 5
}
